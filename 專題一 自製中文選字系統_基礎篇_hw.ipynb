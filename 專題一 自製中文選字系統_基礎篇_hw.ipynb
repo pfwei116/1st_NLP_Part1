{
 "cells": [
  {
   "cell_type": "raw",
   "metadata": {
    "colab_type": "text",
    "id": "dpYyaBgoJLR4"
   },
   "source": [
    "# 自製智能中文選字系統  (1)"
   ]
  },
  {
   "cell_type": "code",
   "execution_count": 1,
   "metadata": {},
   "outputs": [
    {
     "name": "stdout",
     "output_type": "stream",
     "text": [
      "time: 0 ns\n"
     ]
    }
   ],
   "source": [
    "%load_ext autotime"
   ]
  },
  {
   "cell_type": "code",
   "execution_count": 2,
   "metadata": {
    "colab": {},
    "colab_type": "code",
    "id": "6dC4iuglJLSB",
    "outputId": "8bcc939e-c1a3-46f5-f889-b0fcb97ed34f"
   },
   "outputs": [
    {
     "data": {
      "text/plain": [
       "'3.8.5 (default, Sep  3 2020, 21:29:08) [MSC v.1916 64 bit (AMD64)]'"
      ]
     },
     "execution_count": 2,
     "metadata": {},
     "output_type": "execute_result"
    },
    {
     "name": "stdout",
     "output_type": "stream",
     "text": [
      "time: 0 ns\n"
     ]
    }
   ],
   "source": [
    "import sys\n",
    "sys.version"
   ]
  },
  {
   "cell_type": "markdown",
   "metadata": {
    "colab_type": "text",
    "id": "9fQnVHVmJLSH"
   },
   "source": [
    "## 資料前處理"
   ]
  },
  {
   "cell_type": "markdown",
   "metadata": {
    "colab_type": "text",
    "id": "aQIl0BP5JLSH"
   },
   "source": [
    "確認版本為 python3"
   ]
  },
  {
   "cell_type": "code",
   "execution_count": 3,
   "metadata": {
    "colab": {},
    "colab_type": "code",
    "id": "8wG3IWB2JLSI"
   },
   "outputs": [
    {
     "name": "stdout",
     "output_type": "stream",
     "text": [
      "time: 0 ns\n"
     ]
    }
   ],
   "source": [
    "import re"
   ]
  },
  {
   "cell_type": "code",
   "execution_count": 4,
   "metadata": {
    "colab": {},
    "colab_type": "code",
    "id": "xZXcaXMRJLSL"
   },
   "outputs": [
    {
     "name": "stdout",
     "output_type": "stream",
     "text": [
      "time: 0 ns\n"
     ]
    }
   ],
   "source": [
    "def prepocess_line(line):\n",
    "    \"\"\"\n",
    "    僅僅挑出中文字元，並且斷開不連續的中文字\n",
    "    \"\"\"\n",
    "    # 先定義中文的範圍\n",
    "    pattern_cn = r\"[\\u4e00-\\u9fa5]\"\n",
    "    pattern_not_cn = r\"[^\\u4e00-\\u9fa5]\"    \n",
    "    \n",
    "    tmp = re.sub(pattern_not_cn, ' ', line)\n",
    "    segments = [i for i in tmp.split(' ') if len(i)>0]\n",
    "    \n",
    "    # END YOUR CODE\n",
    "    return segments"
   ]
  },
  {
   "cell_type": "code",
   "execution_count": 5,
   "metadata": {},
   "outputs": [
    {
     "data": {
      "text/plain": [
       "['英語', '一詞源於遷居英格蘭的日耳曼部落盎格魯', '而', '盎格魯', '得名於']"
      ]
     },
     "execution_count": 5,
     "metadata": {},
     "output_type": "execute_result"
    },
    {
     "name": "stdout",
     "output_type": "stream",
     "text": [
      "time: 0 ns\n"
     ]
    }
   ],
   "source": [
    "prepocess_line('“英語”一詞源於遷居英格蘭的日耳曼部落盎格魯（），而“盎格魯”得名於')  "
   ]
  },
  {
   "cell_type": "raw",
   "metadata": {
    "colab": {},
    "colab_type": "code",
    "id": "1V1YPovTJLSO",
    "outputId": "fb9b88ae-9b2e-4ab3-fa8a-9ebec8b5190c"
   },
   "source": [
    "prepocess_line('“英語”一詞源於遷居英格蘭的日耳曼部落盎格魯（），而“盎格魯”得名於')  \n",
    "# 應該為：['英語', '一詞源於遷居英格蘭的日耳曼部落盎格魯', '而', '盎格魯', '得名於']"
   ]
  },
  {
   "cell_type": "markdown",
   "metadata": {},
   "source": [
    "#### 讀入資料並處理"
   ]
  },
  {
   "cell_type": "code",
   "execution_count": 6,
   "metadata": {
    "colab": {},
    "colab_type": "code",
    "id": "xuRTq3ptJLR6",
    "tags": []
   },
   "outputs": [
    {
     "name": "stdout",
     "output_type": "stream",
     "text": [
      "time: 156 ms\n"
     ]
    }
   ],
   "source": [
    "segments = []\n",
    "with open('./wiki_zh_small.txt', encoding='utf-8') as fr:\n",
    "    for line in fr.readlines():\n",
    "        segments += prepocess_line(line)"
   ]
  },
  {
   "cell_type": "markdown",
   "metadata": {
    "colab_type": "text",
    "id": "N-E0XU7lJLSQ"
   },
   "source": [
    "## Ngram\n",
    "\n",
    "一開始要先計算字詞出現的次數"
   ]
  },
  {
   "cell_type": "code",
   "execution_count": 9,
   "metadata": {
    "colab": {},
    "colab_type": "code",
    "id": "U0GNtfVnJLSR"
   },
   "outputs": [
    {
     "name": "stdout",
     "output_type": "stream",
     "text": [
      "time: 0 ns\n"
     ]
    }
   ],
   "source": [
    "from collections import Counter\n",
    "\n",
    "class Counters:\n",
    "    def __init__(self, n):\n",
    "        self.n = n\n",
    "        self.counters = [Counter() for _ in range(n + 1)]  # 分別代表計算0、1、...個字的出現次數\n",
    "\n",
    "    def fit(self, segments):\n",
    "        # 因為 self.counters 分別代表計算0、1、...個字的出現次數\n",
    "        # 請在此實作利用 segments 以及函式 _skip 來統計次數\n",
    "        for k in range(self.n):\n",
    "            for segment in segments:\n",
    "                self.counters[k].update(i for i in self._skip(segment, k+1))\n",
    "        \n",
    "    def __getitem__(self, k):\n",
    "        return self.counters[k]\n",
    "\n",
    "    def _skip(self, segment, n):\n",
    "        assert n > 0\n",
    "        if len(segment) < n:\n",
    "            return []\n",
    "        shift = n - 1\n",
    "        for i in range(len(segment) - shift):\n",
    "            yield segment[i:i+shift+1]"
   ]
  },
  {
   "cell_type": "code",
   "execution_count": 10,
   "metadata": {
    "colab": {},
    "colab_type": "code",
    "id": "F4-d0YiMJLSU"
   },
   "outputs": [
    {
     "name": "stdout",
     "output_type": "stream",
     "text": [
      "time: 593 ms\n"
     ]
    }
   ],
   "source": [
    "counters = Counters(n=3)\n",
    "counters.fit(segments)"
   ]
  },
  {
   "cell_type": "raw",
   "metadata": {
    "colab": {},
    "colab_type": "code",
    "id": "UpCDHjXHJLSW",
    "outputId": "a60d9344-c12b-4eed-d836-72a172b0ea1e"
   },
   "source": [
    "counters[0]\n",
    "# 應該為： Counter({'': 371373})"
   ]
  },
  {
   "cell_type": "code",
   "execution_count": 49,
   "metadata": {},
   "outputs": [
    {
     "data": {
      "text/plain": [
       "3"
      ]
     },
     "execution_count": 49,
     "metadata": {},
     "output_type": "execute_result"
    },
    {
     "name": "stdout",
     "output_type": "stream",
     "text": [
      "time: 0 ns\n"
     ]
    }
   ],
   "source": [
    "counters.n"
   ]
  },
  {
   "cell_type": "code",
   "execution_count": 130,
   "metadata": {
    "colab": {},
    "colab_type": "code",
    "id": "x2gOKTEyJLSY"
   },
   "outputs": [
    {
     "name": "stdout",
     "output_type": "stream",
     "text": [
      "time: 0 ns\n"
     ]
    }
   ],
   "source": [
    "class Ngram:\n",
    "    def __init__(self, n, counters):\n",
    "        assert n <= counters.n or n > 0\n",
    "        self.n = n\n",
    "        self.major_counter = counters[n]\n",
    "        self.minor_counter = counters[n-1]\n",
    "\n",
    "    def predict_proba(self, prefix='', top_k=5):\n",
    "        assert len(prefix) >= self.n - 1\n",
    "        # 使用 Ngram 的公式計算出下一個字出現的機率\n",
    "        # 輸出為機率與字的tuple列表，詳見下方輸出範例\n",
    "        wd = prefix[::-1][:self.n][::-1]  #取出要用 prefix的幾個字來做查詢\n",
    "        sorted_probs = []\n",
    "        \n",
    "        tmp_b = self.minor_counter[wd] #分母\n",
    "        \n",
    "        for i in self.major_counter.keys():\n",
    "            if  i.startswith(wd):\n",
    "                tmp_a = self.major_counter[i]\n",
    "                sorted_probs.append((tmp_a / (tmp_b+0.001), i[-1])) #避免找不到字除以零\n",
    "        \n",
    "        sorted_probs = sorted(sorted_probs, key=lambda s: s[0], reverse=True) #按機率大到小排序\n",
    "\n",
    "        return sorted_probs[:top_k] if top_k > 0 else sorted_probs\n",
    "\n",
    "    def get_proba_dict(self, prefix=''):\n",
    "        return {word: prob for prob, word in self.predict_proba(prefix, top_k=-1)}\n"
   ]
  },
  {
   "cell_type": "code",
   "execution_count": 114,
   "metadata": {},
   "outputs": [
    {
     "name": "stdout",
     "output_type": "stream",
     "text": [
      "wd: 思\n"
     ]
    },
    {
     "data": {
      "text/plain": [
       "[(0.3370147126258971, '想'),\n",
       " (0.12154628979950387, '考'),\n",
       " (0.09944696438141226, '維'),\n",
       " (0.044198650836183226, '是'),\n",
       " (0.03867381948166032, '汗')]"
      ]
     },
     "execution_count": 114,
     "metadata": {},
     "output_type": "execute_result"
    },
    {
     "name": "stdout",
     "output_type": "stream",
     "text": [
      "time: 15 ms\n"
     ]
    }
   ],
   "source": [
    "unigram = Ngram(1, counters)\n",
    "unigram.predict_proba('我思')"
   ]
  },
  {
   "cell_type": "code",
   "execution_count": 118,
   "metadata": {},
   "outputs": [
    {
     "name": "stdout",
     "output_type": "stream",
     "text": [
      "wd: 我思\n"
     ]
    },
    {
     "data": {
      "text/plain": [
       "[(0.7498125468632841, '故'), (0.2499375156210947, '維')]"
      ]
     },
     "execution_count": 118,
     "metadata": {},
     "output_type": "execute_result"
    },
    {
     "name": "stdout",
     "output_type": "stream",
     "text": [
      "time: 31 ms\n"
     ]
    }
   ],
   "source": [
    "unigram = Ngram(2, counters)\n",
    "unigram.predict_proba('我思')"
   ]
  },
  {
   "cell_type": "code",
   "execution_count": 116,
   "metadata": {},
   "outputs": [
    {
     "name": "stdout",
     "output_type": "stream",
     "text": [
      "wd: 我思\n"
     ]
    },
    {
     "data": {
      "text/plain": [
       "[]"
      ]
     },
     "execution_count": 116,
     "metadata": {},
     "output_type": "execute_result"
    },
    {
     "name": "stdout",
     "output_type": "stream",
     "text": [
      "time: 0 ns\n"
     ]
    }
   ],
   "source": [
    "unigram = Ngram(3, counters)\n",
    "unigram.predict_proba('我思')"
   ]
  },
  {
   "cell_type": "code",
   "execution_count": null,
   "metadata": {
    "colab": {},
    "colab_type": "code",
    "id": "M8BZcC7lJLSe",
    "outputId": "e395b66c-7de6-49d7-d796-95d0cec00a1d",
    "tags": []
   },
   "outputs": [
    {
     "data": {
      "text/plain": [
       "[(0.035732269174118744, '的'),\n",
       " (0.012927703414087723, '國'),\n",
       " (0.010620050461395955, '中'),\n",
       " (0.009984570768472667, '在'),\n",
       " (0.009852627950874188, '一')]"
      ]
     },
     "execution_count": 10,
     "metadata": {
      "tags": []
     },
     "output_type": "execute_result"
    }
   ],
   "source": [
    "# unigram.predict_proba('我思')\n",
    "# # 應該為：[(0.035732269174118744, '的'),\n",
    "# #         (0.012927703414087723, '國'),\n",
    "# #         (0.010620050461395955, '中'),\n",
    "# #         (0.009984570768472667, '在'),\n",
    "# #         (0.009852627950874188, '一')]"
   ]
  },
  {
   "cell_type": "code",
   "execution_count": 131,
   "metadata": {
    "colab": {},
    "colab_type": "code",
    "id": "vYRqughPJLSh"
   },
   "outputs": [
    {
     "name": "stdout",
     "output_type": "stream",
     "text": [
      "time: 0 ns\n"
     ]
    }
   ],
   "source": [
    "unigram = Ngram(1, counters)\n",
    "bigram = Ngram(2, counters)\n",
    "trigram = Ngram(3, counters)"
   ]
  },
  {
   "cell_type": "markdown",
   "metadata": {
    "colab_type": "text",
    "id": "lG6TV-8iJLSj"
   },
   "source": [
    "## 使用Ngram來建立第一版選字系統"
   ]
  },
  {
   "cell_type": "code",
   "execution_count": 149,
   "metadata": {
    "colab": {},
    "colab_type": "code",
    "id": "Ak-zlXIGJLSk"
   },
   "outputs": [
    {
     "name": "stdout",
     "output_type": "stream",
     "text": [
      "time: 0 ns\n"
     ]
    }
   ],
   "source": [
    "class ChineseWordRecommenderV1:\n",
    "    def __init__(self, unigram, bigram, trigram):\n",
    "        self.unigram = unigram\n",
    "        self.bigram = bigram\n",
    "        self.trigram = trigram\n",
    "    \n",
    "    def predict_proba(self, prefix='', top_k=5):\n",
    "        # 使用Ngram來建立選字系統\n",
    "        tmp_probs = []\n",
    "        sorted_probs = []\n",
    "        \n",
    "        # 依模型複雜到簡單加入機率\n",
    "        tmp_probs.extend(self.trigram.predict_proba(prefix, top_k))\n",
    "        tmp_probs.extend(self.bigram.predict_proba(prefix, top_k))\n",
    "        tmp_probs.extend(self.unigram.predict_proba(prefix, top_k))\n",
    "        \n",
    "        list_wd = [] #為了避免不同模型重複選字\n",
    "        for i in tmp_probs:\n",
    "            if i[1] in list_wd:\n",
    "                continue\n",
    "            else:\n",
    "                list_wd.extend(i[1])\n",
    "            \n",
    "            sorted_probs.append(i)\n",
    "            \n",
    "            if len(list_wd) == top_k:\n",
    "                break\n",
    "        \n",
    "        return sorted_probs[:top_k]\n",
    "        "
   ]
  },
  {
   "cell_type": "code",
   "execution_count": 150,
   "metadata": {
    "colab": {},
    "colab_type": "code",
    "id": "0LS4xO4XJLSl"
   },
   "outputs": [
    {
     "name": "stdout",
     "output_type": "stream",
     "text": [
      "time: 0 ns\n"
     ]
    }
   ],
   "source": [
    "model = ChineseWordRecommenderV1(unigram, bigram, trigram)"
   ]
  },
  {
   "cell_type": "code",
   "execution_count": 151,
   "metadata": {},
   "outputs": [
    {
     "data": {
      "text/plain": [
       "[(0.7498125468632841, '故'),\n",
       " (0.2499375156210947, '維'),\n",
       " (0.3370147126258971, '想'),\n",
       " (0.12154628979950387, '考'),\n",
       " (0.044198650836183226, '是'),\n",
       " (0.03867381948166032, '汗'),\n",
       " (0.022099325418091613, '爲'),\n",
       " (0.011049662709045806, '源'),\n",
       " (0.011049662709045806, '無'),\n",
       " (0.011049662709045806, '一')]"
      ]
     },
     "execution_count": 151,
     "metadata": {},
     "output_type": "execute_result"
    },
    {
     "name": "stdout",
     "output_type": "stream",
     "text": [
      "time: 47 ms\n"
     ]
    }
   ],
   "source": [
    "probs = model.predict_proba('我思', top_k=10)\n",
    "probs"
   ]
  },
  {
   "cell_type": "code",
   "execution_count": null,
   "metadata": {
    "colab": {},
    "colab_type": "code",
    "id": "j8pziwHnJLSn",
    "outputId": "70ec8b6a-c222-4981-8628-fc8357966621",
    "tags": []
   },
   "outputs": [
    {
     "data": {
      "text/plain": [
       "[(0.75, '故'), (0.25, '維')]"
      ]
     },
     "execution_count": 13,
     "metadata": {
      "tags": []
     },
     "output_type": "execute_result"
    }
   ],
   "source": [
    "# probs = model.predict_proba('我思', top_k=10)\n",
    "# probs"
   ]
  },
  {
   "cell_type": "markdown",
   "metadata": {
    "colab_type": "text",
    "id": "sM7_WCTmJLSq"
   },
   "source": [
    "## Demo"
   ]
  },
  {
   "cell_type": "code",
   "execution_count": null,
   "metadata": {
    "colab": {},
    "colab_type": "code",
    "id": "8zOHOeYLJLSq",
    "outputId": "6ffedaa6-2bbb-49e2-b225-2eb1209da3c1",
    "tags": []
   },
   "outputs": [
    {
     "name": "stdout",
     "output_type": "stream",
     "text": [
      "Requirement already up-to-date: pip in /Users/ycchen/.pyenv/versions/3.6.5/lib/python3.6/site-packages (20.1.1)\n"
     ]
    }
   ],
   "source": [
    "!pip install -U pip\n",
    "!pip install -q ipywidgets"
   ]
  },
  {
   "cell_type": "code",
   "execution_count": 153,
   "metadata": {
    "colab": {
     "referenced_widgets": [
      "671d1e5f6874463ab4f184d5e8606e81",
      "5e8aac42609740ecb19f192ac9542006"
     ]
    },
    "colab_type": "code",
    "id": "Qsupw9BoJLSs",
    "outputId": "90544490-4fc3-4350-8447-2673999a611f"
   },
   "outputs": [
    {
     "data": {
      "application/vnd.jupyter.widget-view+json": {
       "model_id": "142cde2224d1434ba634fa9af20e4923",
       "version_major": 2,
       "version_minor": 0
      },
      "text/plain": [
       "Label(value='')"
      ]
     },
     "metadata": {},
     "output_type": "display_data"
    },
    {
     "data": {
      "application/vnd.jupyter.widget-view+json": {
       "model_id": "b32b8f93d57e4083beaaaa62ff895bef",
       "version_major": 2,
       "version_minor": 0
      },
      "text/plain": [
       "Textarea(value='')"
      ]
     },
     "metadata": {},
     "output_type": "display_data"
    },
    {
     "name": "stdout",
     "output_type": "stream",
     "text": [
      "time: 15 ms\n"
     ]
    }
   ],
   "source": [
    "import ipywidgets as widgets\n",
    "\n",
    "text = widgets.Textarea()\n",
    "label = widgets.Label()\n",
    "display(label, text)\n",
    "\n",
    "def func(change):\n",
    "    probs = model.predict_proba(change.new, top_k=10)\n",
    "    label.value = ' ' + '\\t'.join([word for prob, word in probs])\n",
    "\n",
    "text.observe(func, names='value')"
   ]
  },
  {
   "cell_type": "code",
   "execution_count": 154,
   "metadata": {
    "colab": {},
    "colab_type": "code",
    "id": "pLrjn44rJLSu"
   },
   "outputs": [
    {
     "name": "stdout",
     "output_type": "stream",
     "text": [
      "time: 0 ns\n"
     ]
    }
   ],
   "source": [
    "text.observe(func, names='我思')"
   ]
  },
  {
   "cell_type": "code",
   "execution_count": null,
   "metadata": {
    "colab": {},
    "colab_type": "code",
    "id": "2ezmZB9cJLSw"
   },
   "outputs": [],
   "source": []
  }
 ],
 "metadata": {
  "colab": {
   "name": "final_project_A_1.ipynb",
   "provenance": []
  },
  "kernelspec": {
   "display_name": "Python 3",
   "language": "python",
   "name": "python3"
  },
  "language_info": {
   "codemirror_mode": {
    "name": "ipython",
    "version": 3
   },
   "file_extension": ".py",
   "mimetype": "text/x-python",
   "name": "python",
   "nbconvert_exporter": "python",
   "pygments_lexer": "ipython3",
   "version": "3.8.5"
  }
 },
 "nbformat": 4,
 "nbformat_minor": 4
}
