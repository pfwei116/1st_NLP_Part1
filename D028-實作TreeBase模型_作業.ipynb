{
 "cells": [
  {
   "cell_type": "code",
   "execution_count": null,
   "metadata": {},
   "outputs": [],
   "source": [
    "### 作業目的: 使用樹型模型進行文章分類\n",
    "\n",
    "本次作業主利用[Amazon Review data中的All Beauty](https://nijianmo.github.io/amazon/index.html)來進行review評價分類(文章分類)\n",
    "\n",
    "資料中將review分為1,2,3,4,5分，而在這份作業，我們將評論改分為差評價、普通評價、優良評價(1,2-->1差評、3-->2普通評價、4,5-->3優良評價)"
   ]
  },
  {
   "cell_type": "code",
   "execution_count": 1,
   "metadata": {},
   "outputs": [
    {
     "name": "stdout",
     "output_type": "stream",
     "text": [
      "time: 0 ns\n"
     ]
    }
   ],
   "source": [
    "%load_ext autotime"
   ]
  },
  {
   "cell_type": "markdown",
   "metadata": {},
   "source": [
    "### 載入套件"
   ]
  },
  {
   "cell_type": "code",
   "execution_count": 2,
   "metadata": {},
   "outputs": [
    {
     "name": "stdout",
     "output_type": "stream",
     "text": [
      "time: 6.16 s\n"
     ]
    }
   ],
   "source": [
    "import json\n",
    "import re\n",
    "from sklearn.tree import DecisionTreeClassifier\n",
    "from sklearn.ensemble import AdaBoostClassifier, RandomForestClassifier\n",
    "from sklearn.metrics import classification_report, confusion_matrix\n",
    "from sklearn.model_selection import train_test_split\n",
    "from sklearn.feature_extraction.text import CountVectorizer, TfidfVectorizer, TfidfTransformer"
   ]
  },
  {
   "cell_type": "markdown",
   "metadata": {},
   "source": [
    "### 資料前處理\n",
    "文本資料較為龐大，這裡我們取前10000筆資料來進行作業練習"
   ]
  },
  {
   "cell_type": "code",
   "execution_count": 17,
   "metadata": {},
   "outputs": [
    {
     "data": {
      "text/plain": [
       "{'overall': 1.0,\n",
       " 'verified': True,\n",
       " 'reviewTime': '02 19, 2015',\n",
       " 'reviewerID': 'A1V6B6TNIC10QE',\n",
       " 'asin': '0143026860',\n",
       " 'reviewerName': 'theodore j bigham',\n",
       " 'reviewText': 'great',\n",
       " 'summary': 'One Star',\n",
       " 'unixReviewTime': 1424304000}"
      ]
     },
     "execution_count": 17,
     "metadata": {},
     "output_type": "execute_result"
    },
    {
     "name": "stdout",
     "output_type": "stream",
     "text": [
      "time: 922 ms\n"
     ]
    }
   ],
   "source": [
    "#load json data\n",
    "all_reviews = []\n",
    "cnt = 0\n",
    "with open('All_Beauty.json', mode='r') as f:\n",
    "    for s in f.readlines():\n",
    "        all_reviews.append(json.loads(s))\n",
    "        cnt += 1\n",
    "        if cnt == 10000:\n",
    "            break\n",
    "        \n",
    "all_reviews[0]"
   ]
  },
  {
   "cell_type": "code",
   "execution_count": 48,
   "metadata": {},
   "outputs": [
    {
     "name": "stdout",
     "output_type": "stream",
     "text": [
      "time: 0 ns\n"
     ]
    }
   ],
   "source": [
    "#parse label(overall) and corpus(reviewText)\n",
    "#transform labels: 1,2 --> 1 and 3 --> 2 and 4,5 --> 3\n",
    "\n",
    "corpus = [i.get('reviewText') for i in all_reviews]\n",
    "\n",
    "change_rank = lambda s: 1.0 if s <= 2.0 else 3.0 if s >= 4.0 else 2.0\n",
    "labels = [change_rank(s.get('overall')) for s in all_reviews]\n"
   ]
  },
  {
   "cell_type": "code",
   "execution_count": 90,
   "metadata": {},
   "outputs": [
    {
     "name": "stdout",
     "output_type": "stream",
     "text": [
      "time: 156 ms\n"
     ]
    }
   ],
   "source": [
    "#preprocessing data\n",
    "pattern_punc = r\"[,\\.:]\"\n",
    "pattern_email = r\"[\\d\\w]+@[\\d\\w]+\"\n",
    "pattern_newline = r\"\\n\"\n",
    "\n",
    "for i in range(len(corpus)):\n",
    "    if corpus[i]:\n",
    "        corpus[i] = re.sub(pattern_punc,' ',corpus[i])\n",
    "        corpus[i] = re.sub(pattern_email,' ',corpus[i])\n",
    "        corpus[i] = re.sub(pattern_newline,' ',corpus[i])\n",
    "    else:\n",
    "        corpus[i] = ' '\n",
    "\n"
   ]
  },
  {
   "cell_type": "code",
   "execution_count": 123,
   "metadata": {},
   "outputs": [
    {
     "data": {
      "text/plain": [
       "(8000, 2000, 8000, 2000)"
      ]
     },
     "execution_count": 123,
     "metadata": {},
     "output_type": "execute_result"
    },
    {
     "name": "stdout",
     "output_type": "stream",
     "text": [
      "time: 16 ms\n"
     ]
    }
   ],
   "source": [
    "#split corpus and label into train and test\n",
    "x_train, x_test, y_train, y_test = train_test_split(corpus, labels, test_size=0.2, shuffle=True, random_state=1501)\n",
    "\n",
    "len(x_train), len(x_test), len(y_train), len(y_test)"
   ]
  },
  {
   "cell_type": "code",
   "execution_count": 124,
   "metadata": {},
   "outputs": [
    {
     "name": "stdout",
     "output_type": "stream",
     "text": [
      "time: 515 ms\n"
     ]
    }
   ],
   "source": [
    "#change corpus into vector\n",
    "#you can use tfidf or BoW here\n",
    "\n",
    "from sklearn.feature_extraction.text import TfidfVectorizer\n",
    "\n",
    "tfidf_v = TfidfVectorizer()\n",
    "tfidf_v.fit(corpus)\n",
    "\n",
    "#transform training and testing corpus into vector form\n",
    "x_train = tfidf_v.transform(x_train)\n",
    "x_test = tfidf_v.transform(x_test)"
   ]
  },
  {
   "cell_type": "markdown",
   "metadata": {},
   "source": [
    "### 訓練與預測"
   ]
  },
  {
   "cell_type": "code",
   "execution_count": 125,
   "metadata": {},
   "outputs": [
    {
     "data": {
      "text/plain": [
       "AdaBoostClassifier(n_estimators=100)"
      ]
     },
     "execution_count": 125,
     "metadata": {},
     "output_type": "execute_result"
    },
    {
     "name": "stdout",
     "output_type": "stream",
     "text": [
      "time: 8.44 s\n"
     ]
    }
   ],
   "source": [
    "#build classification model (decision tree, random forest, or adaboost)\n",
    "#start training\n",
    "\n",
    "adatree = AdaBoostClassifier(n_estimators=100)\n",
    "adatree.fit(x_train, y_train)"
   ]
  },
  {
   "cell_type": "code",
   "execution_count": 126,
   "metadata": {},
   "outputs": [
    {
     "name": "stdout",
     "output_type": "stream",
     "text": [
      "訓練集的正確率: 0.9185\n",
      "訓練集的confusion_matrix:\n",
      " [[ 265    9  258]\n",
      " [  19   51  237]\n",
      " [  85   44 7032]]\n",
      "訓練集的分類報告:\n",
      "               precision    recall  f1-score   support\n",
      "\n",
      "         1.0       0.72      0.50      0.59       532\n",
      "         2.0       0.49      0.17      0.25       307\n",
      "         3.0       0.93      0.98      0.96      7161\n",
      "\n",
      "    accuracy                           0.92      8000\n",
      "   macro avg       0.71      0.55      0.60      8000\n",
      "weighted avg       0.90      0.92      0.91      8000\n",
      "\n",
      "time: 547 ms\n"
     ]
    }
   ],
   "source": [
    "# \n",
    "print(f\"訓練集的正確率: {adatree.score(x_train, y_train)}\")\n",
    "print(f\"訓練集的confusion_matrix:\\n {confusion_matrix(y_train, adatree.predict(x_train))}\")\n",
    "print(f\"訓練集的分類報告:\\n {classification_report(y_train, adatree.predict(x_train))}\")"
   ]
  },
  {
   "cell_type": "code",
   "execution_count": 127,
   "metadata": {},
   "outputs": [
    {
     "name": "stdout",
     "output_type": "stream",
     "text": [
      "time: 62 ms\n"
     ]
    }
   ],
   "source": [
    "#start inference\n",
    "y_pred = adatree.predict(x_test)"
   ]
  },
  {
   "cell_type": "code",
   "execution_count": 128,
   "metadata": {},
   "outputs": [
    {
     "name": "stdout",
     "output_type": "stream",
     "text": [
      "測試集的正確率: 0.9045\n",
      "測試集的confusion_matrix:\n",
      " [[  65    3   85]\n",
      " [   9    7   57]\n",
      " [  21   16 1737]]\n",
      "測試集的分類報告:\n",
      "               precision    recall  f1-score   support\n",
      "\n",
      "         1.0       0.68      0.42      0.52       153\n",
      "         2.0       0.27      0.10      0.14        73\n",
      "         3.0       0.92      0.98      0.95      1774\n",
      "\n",
      "    accuracy                           0.90      2000\n",
      "   macro avg       0.63      0.50      0.54      2000\n",
      "weighted avg       0.88      0.90      0.89      2000\n",
      "\n",
      "time: 94 ms\n"
     ]
    }
   ],
   "source": [
    "print(f\"測試集的正確率: {adatree.score(x_test, y_test)}\")\n",
    "print(f\"測試集的confusion_matrix:\\n {confusion_matrix(y_test, y_pred)}\")\n",
    "print(f\"測試集的分類報告:\\n {classification_report(y_test, y_pred)}\")"
   ]
  },
  {
   "cell_type": "markdown",
   "metadata": {},
   "source": [
    "由上述資訊可以發現, 模型在好評的準確度高(precision, recall都高), 而在差評的部分表現較不理想, 在普通評價的部分大部分跟差評搞混,\n",
    "同學可以試著學習到的各種方法來提升模型的表現"
   ]
  },
  {
   "cell_type": "code",
   "execution_count": null,
   "metadata": {},
   "outputs": [],
   "source": []
  }
 ],
 "metadata": {
  "kernelspec": {
   "display_name": "Python 3",
   "language": "python",
   "name": "python3"
  },
  "language_info": {
   "codemirror_mode": {
    "name": "ipython",
    "version": 3
   },
   "file_extension": ".py",
   "mimetype": "text/x-python",
   "name": "python",
   "nbconvert_exporter": "python",
   "pygments_lexer": "ipython3",
   "version": "3.8.5"
  }
 },
 "nbformat": 4,
 "nbformat_minor": 4
}
